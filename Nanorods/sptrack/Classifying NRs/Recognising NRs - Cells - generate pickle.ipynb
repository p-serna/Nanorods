{
 "cells": [
  {
   "cell_type": "markdown",
   "metadata": {},
   "source": [
    "# Recognising NRs\n"
   ]
  },
  {
   "cell_type": "code",
   "execution_count": 7,
   "metadata": {},
   "outputs": [
    {
     "name": "stdout",
     "output_type": "stream",
     "text": [
      "35\n",
      "['/mnt/data/Anastasia/18_11_29_pd23_11_div6_25Hzsqwave/cell2_3.tif', '/mnt/data/Anastasia/18_11_29_pd23_11_div6_25Hzsqwave/cell1_1.tif', '/mnt/data/Anastasia/18_11_29_pd23_11_div6_25Hzsqwave/cell3_5.tif', '/mnt/data/Anastasia/18_11_29_pd23_11_div6_25Hzsqwave/cell4_7.tif', '/mnt/data/Anastasia/18_12_10_pd3_12_div7_WIS_NR-BeRST/cell5_10.tif', '/mnt/data/Anastasia/18_12_10_pd3_12_div7_WIS_NR-BeRST/cell2_3.tif', '/mnt/data/Anastasia/18_12_10_pd3_12_div7_WIS_NR-BeRST/cell1_1.tif', '/mnt/data/Anastasia/18_12_10_pd3_12_div7_WIS_NR-BeRST/cell4_8.tif', '/mnt/data/Anastasia/18_12_10_pd3_12_div7_WIS_NR-BeRST/cell7_14.tif', '/mnt/data/Anastasia/18_12_10_pd3_12_div7_WIS_NR-BeRST/cell6_12.tif', '/mnt/data/Anastasia/18_12_10_pd3_12_div7_WIS_NR-BeRST/cell3_5.tif', '/mnt/data/Anastasia/18_12_12_pd7_12_div5_WIS_NR-BeRST/cell1_1.tif', '/mnt/data/Anastasia/18_12_12_pd7_12_div5_WIS_NR-BeRST/cell3_7.tif', '/mnt/data/Anastasia/18_12_12_pd7_12_div5_WIS_NR-BeRST/cell2_4.tif', '/mnt/data/Anastasia/18_12_12_pd7_12_div5_WIS_NR-BeRST_DM590/cell2_3.tif', '/mnt/data/Anastasia/18_12_12_pd7_12_div5_WIS_NR-BeRST_DM590/cell1_1.tif', '/mnt/data/Anastasia/18_12_12_pd7_12_div5_WIS_NR-BeRST_DM590/cell4_8.tif', '/mnt/data/Anastasia/18_12_12_pd7_12_div5_WIS_NR-BeRST_DM590/cell3_5.tif', '/mnt/data/Anastasia/19_01_30_pd25_01_div5_NR_BeRST/cell8_15.tif', '/mnt/data/Anastasia/19_01_30_pd25_01_div5_NR_BeRST/cell6_11.tif', '/mnt/data/Anastasia/19_01_30_pd25_01_div5_NR_BeRST/cell9_17.tif', '/mnt/data/Anastasia/19_01_30_pd25_01_div5_NR_BeRST/cell2_3.tif', '/mnt/data/Anastasia/19_01_30_pd25_01_div5_NR_BeRST/cell1_1.tif', '/mnt/data/Anastasia/19_01_30_pd25_01_div5_NR_BeRST/cell5_9.tif', '/mnt/data/Anastasia/19_01_30_pd25_01_div5_NR_BeRST/cell7_13.tif', '/mnt/data/Anastasia/19_01_30_pd25_01_div5_NR_BeRST/cell3_5.tif', '/mnt/data/Anastasia/19_01_30_pd25_01_div5_NR_BeRST/cell4_7.tif', '/mnt/data/Anastasia/19_02_05_pd1_02_div4_NR_BeRST/cell8_16.tif', '/mnt/data/Anastasia/19_02_05_pd1_02_div4_NR_BeRST/cell5_10.tif', '/mnt/data/Anastasia/19_02_05_pd1_02_div4_NR_BeRST/cell1_2.tif', '/mnt/data/Anastasia/19_02_05_pd1_02_div4_NR_BeRST/cell2_4.tif', '/mnt/data/Anastasia/19_02_05_pd1_02_div4_NR_BeRST/cell4_8.tif', '/mnt/data/Anastasia/19_02_05_pd1_02_div4_NR_BeRST/cell7_14.tif', '/mnt/data/Anastasia/19_02_05_pd1_02_div4_NR_BeRST/cell6_12.tif', '/mnt/data/Anastasia/19_02_05_pd1_02_div4_NR_BeRST/cell3_6.tif']\n"
     ]
    }
   ],
   "source": [
    "import sys\n",
    "import os\n",
    "basef = \"/mnt/data/Anastasia/\"\n",
    "wdirs = [\"/mnt/data/Anastasia/18_11_29_pd23_11_div6_25Hzsqwave/\",\n",
    "         basef+\"18_12_10_pd3_12_div7_WIS_NR-BeRST\",\n",
    "         basef+\"18_12_12_pd7_12_div5_WIS_NR-BeRST\",\n",
    "         basef+\"18_12_12_pd7_12_div5_WIS_NR-BeRST_DM590\",\n",
    "         basef+\"19_01_30_pd25_01_div5_NR_BeRST\",\n",
    "         basef+\"19_02_05_pd1_02_div4_NR_BeRST\"\n",
    "]\n",
    "\n",
    "dfiles = []\n",
    "for dirt in wdirs:\n",
    "    basedir = dirt\n",
    "    files = os.listdir(basedir)\n",
    "    if dirt[-1] != '/':\n",
    "        dirt = dirt+'/'\n",
    "    for f in files:\n",
    "        if f[-4:]=='.tif': \n",
    "            try:\n",
    "                i = int(f[-5])\n",
    "                dfiles.append(dirt+f)\n",
    "            except:\n",
    "                pass\n",
    "\n",
    "            \n",
    "     \n",
    "               \n",
    "  \n",
    "            \n",
    "#dfiles = dfiles[4:8]\n",
    "\n",
    "print(len(dfiles))\n",
    "print(dfiles)\n"
   ]
  },
  {
   "cell_type": "code",
   "execution_count": 8,
   "metadata": {},
   "outputs": [],
   "source": [
    "sys.path.append(\"/export/home1/users/bssn/serna/GitIBENS/Nanorods\")"
   ]
  },
  {
   "cell_type": "code",
   "execution_count": 9,
   "metadata": {},
   "outputs": [],
   "source": [
    "from numpy import *\n",
    "from matplotlib.pylab import *\n",
    "import scipy.optimize as opt\n",
    "import pickle\n",
    "from scipy.optimize import minimize,least_squares\n",
    "from scipy.stats import linregress\n",
    "\n",
    "%matplotlib inline"
   ]
  },
  {
   "cell_type": "code",
   "execution_count": 10,
   "metadata": {},
   "outputs": [],
   "source": [
    "from signal_analysis.core import dblgausfit,dblgaussd"
   ]
  },
  {
   "cell_type": "code",
   "execution_count": 21,
   "metadata": {},
   "outputs": [
    {
     "name": "stdout",
     "output_type": "stream",
     "text": [
      "(1333,) /mnt/data/Anastasia/18_11_29_pd23_11_div6_25Hzsqwave/cell2_3output/ROIs_Inmask.dat\n",
      "(1623,) /mnt/data/Anastasia/18_11_29_pd23_11_div6_25Hzsqwave/cell1_1output/ROIs_Inmask.dat\n",
      "(860,) /mnt/data/Anastasia/18_11_29_pd23_11_div6_25Hzsqwave/cell3_5output/ROIs_Inmask.dat\n",
      "(1495,) /mnt/data/Anastasia/18_11_29_pd23_11_div6_25Hzsqwave/cell4_7output/ROIs_Inmask.dat\n",
      "(376,) /mnt/data/Anastasia/18_12_10_pd3_12_div7_WIS_NR-BeRST/cell5_10output/ROIs_Inmask.dat\n",
      "(4426,) /mnt/data/Anastasia/18_12_10_pd3_12_div7_WIS_NR-BeRST/cell2_3output/ROIs_Inmask.dat\n",
      "(5765,) /mnt/data/Anastasia/18_12_10_pd3_12_div7_WIS_NR-BeRST/cell1_1output/ROIs_Inmask.dat\n",
      "(224,) /mnt/data/Anastasia/18_12_10_pd3_12_div7_WIS_NR-BeRST/cell4_8output/ROIs_Inmask.dat\n",
      "(3874,) /mnt/data/Anastasia/18_12_10_pd3_12_div7_WIS_NR-BeRST/cell7_14output/ROIs_Inmask.dat\n",
      "(7559,) /mnt/data/Anastasia/18_12_10_pd3_12_div7_WIS_NR-BeRST/cell6_12output/ROIs_Inmask.dat\n",
      "(8985,) /mnt/data/Anastasia/18_12_10_pd3_12_div7_WIS_NR-BeRST/cell3_5output/ROIs_Inmask.dat\n",
      "(2482,) /mnt/data/Anastasia/18_12_12_pd7_12_div5_WIS_NR-BeRST/cell1_1output/ROIs_Inmask.dat\n",
      "(3059,) /mnt/data/Anastasia/18_12_12_pd7_12_div5_WIS_NR-BeRST/cell3_7output/ROIs_Inmask.dat\n",
      "(2717,) /mnt/data/Anastasia/18_12_12_pd7_12_div5_WIS_NR-BeRST/cell2_4output/ROIs_Inmask.dat\n",
      "(3032,) /mnt/data/Anastasia/18_12_12_pd7_12_div5_WIS_NR-BeRST_DM590/cell2_3output/ROIs_Inmask.dat\n",
      "(2960,) /mnt/data/Anastasia/18_12_12_pd7_12_div5_WIS_NR-BeRST_DM590/cell1_1output/ROIs_Inmask.dat\n",
      "(3065,) /mnt/data/Anastasia/18_12_12_pd7_12_div5_WIS_NR-BeRST_DM590/cell4_8output/ROIs_Inmask.dat\n",
      "(3251,) /mnt/data/Anastasia/18_12_12_pd7_12_div5_WIS_NR-BeRST_DM590/cell3_5output/ROIs_Inmask.dat\n",
      "(2619,) /mnt/data/Anastasia/19_01_30_pd25_01_div5_NR_BeRST/cell8_15output/ROIs_Inmask.dat\n",
      "(1362,) /mnt/data/Anastasia/19_01_30_pd25_01_div5_NR_BeRST/cell6_11output/ROIs_Inmask.dat\n",
      "(1443,) /mnt/data/Anastasia/19_01_30_pd25_01_div5_NR_BeRST/cell9_17output/ROIs_Inmask.dat\n",
      "(1955,) /mnt/data/Anastasia/19_01_30_pd25_01_div5_NR_BeRST/cell2_3output/ROIs_Inmask.dat\n",
      "(1754,) /mnt/data/Anastasia/19_01_30_pd25_01_div5_NR_BeRST/cell1_1output/ROIs_Inmask.dat\n",
      "(1145,) /mnt/data/Anastasia/19_01_30_pd25_01_div5_NR_BeRST/cell5_9output/ROIs_Inmask.dat\n",
      "(3047,) /mnt/data/Anastasia/19_01_30_pd25_01_div5_NR_BeRST/cell7_13output/ROIs_Inmask.dat\n",
      "(1831,) /mnt/data/Anastasia/19_01_30_pd25_01_div5_NR_BeRST/cell3_5output/ROIs_Inmask.dat\n",
      "(1820,) /mnt/data/Anastasia/19_01_30_pd25_01_div5_NR_BeRST/cell4_7output/ROIs_Inmask.dat\n",
      "(2882,) /mnt/data/Anastasia/19_02_05_pd1_02_div4_NR_BeRST/cell8_16output/ROIs_Inmask.dat\n",
      "(903,) /mnt/data/Anastasia/19_02_05_pd1_02_div4_NR_BeRST/cell5_10output/ROIs_Inmask.dat\n",
      "(1573,) /mnt/data/Anastasia/19_02_05_pd1_02_div4_NR_BeRST/cell1_2output/ROIs_Inmask.dat\n",
      "(416,) /mnt/data/Anastasia/19_02_05_pd1_02_div4_NR_BeRST/cell2_4output/ROIs_Inmask.dat\n",
      "(3973,) /mnt/data/Anastasia/19_02_05_pd1_02_div4_NR_BeRST/cell4_8output/ROIs_Inmask.dat\n",
      "(1288,) /mnt/data/Anastasia/19_02_05_pd1_02_div4_NR_BeRST/cell7_14output/ROIs_Inmask.dat\n",
      "(1200,) /mnt/data/Anastasia/19_02_05_pd1_02_div4_NR_BeRST/cell6_12output/ROIs_Inmask.dat\n",
      "(654,) /mnt/data/Anastasia/19_02_05_pd1_02_div4_NR_BeRST/cell3_6output/ROIs_Inmask.dat\n"
     ]
    }
   ],
   "source": [
    "for i,cfile in enumerate(dfiles):\n",
    "    wdir = ''\n",
    "    cf2 = cfile.split(\".\")[0].split(\"/\")\n",
    "    for fs in cf2[:-1]:\n",
    "        wdir = wdir+fs+'/'\n",
    "    mfile = wdir+cf2[-1]+'output/ROIs_Inmask.dat'\n",
    "    mt = loadtxt(mfile)\n",
    "    print(mt.shape,mfile)\n",
    "    if i == 0:\n",
    "        imsk = mt.flatten()\n",
    "    else:\n",
    "        imsk = concatenate((imsk,mt.flatten()))"
   ]
  },
  {
   "cell_type": "code",
   "execution_count": 12,
   "metadata": {},
   "outputs": [],
   "source": [
    "def bimod(x):\n",
    "    m1 = mean(x)\n",
    "    m2 = std(x)\n",
    "    m3 = mean((x-m1)**3)/m2**3\n",
    "    m4 = mean((x-m1)**4)/m2**4\n",
    "    return((m3**2+1)/m4)"
   ]
  },
  {
   "cell_type": "code",
   "execution_count": 13,
   "metadata": {},
   "outputs": [],
   "source": [
    "from msd import extractmsd,extractDe\n",
    "\n"
   ]
  },
  {
   "cell_type": "code",
   "execution_count": null,
   "metadata": {},
   "outputs": [],
   "source": []
  },
  {
   "cell_type": "code",
   "execution_count": 12,
   "metadata": {},
   "outputs": [
    {
     "name": "stderr",
     "output_type": "stream",
     "text": [
      "/export/home1/users/bssn/serna/GitIBENS/Nanorods/sptrack/Classifying NRs/msd.py:35: RuntimeWarning: divide by zero encountered in double_scalars\n",
      "  seb = sqrt((ssx*ssy-ssxy**2)/((n-2)))/ssx\n",
      "/export/home1/users/bssn/serna/GitIBENS/Nanorods/sptrack/Classifying NRs/msd.py:34: RuntimeWarning: invalid value encountered in double_scalars\n",
      "  b = ssxy/ssx\n",
      "/export/home1/users/bssn/serna/GitIBENS/Nanorods/sptrack/Classifying NRs/msd.py:35: RuntimeWarning: invalid value encountered in double_scalars\n",
      "  seb = sqrt((ssx*ssy-ssxy**2)/((n-2)))/ssx\n",
      "/export/home1/users/bssn/serna/GitIBENS/Nanorods/sptrack/Classifying NRs/msd.py:35: RuntimeWarning: invalid value encountered in sqrt\n",
      "  seb = sqrt((ssx*ssy-ssxy**2)/((n-2)))/ssx\n"
     ]
    },
    {
     "name": "stdout",
     "output_type": "stream",
     "text": [
      "0\n"
     ]
    },
    {
     "name": "stderr",
     "output_type": "stream",
     "text": [
      "/export/home1/users/bssn/serna/GitIBENS/Nanorods/sptrack/Classifying NRs/msd.py:139: RuntimeWarning: invalid value encountered in true_divide\n",
      "  msds = msds[1:,:]/msds[:-1,:]\n",
      "/users/bssn/serna/environments/deepl/lib/python3.6/site-packages/numpy/core/fromnumeric.py:2957: RuntimeWarning: Mean of empty slice.\n",
      "  out=out, **kwargs)\n",
      "/users/bssn/serna/environments/deepl/lib/python3.6/site-packages/numpy/core/_methods.py:80: RuntimeWarning: invalid value encountered in double_scalars\n",
      "  ret = ret.dtype.type(ret / rcount)\n"
     ]
    },
    {
     "name": "stdout",
     "output_type": "stream",
     "text": [
      "0\n",
      "0\n",
      "0\n",
      "0\n",
      "1\n",
      "0\n",
      "0\n",
      "2\n",
      "0\n",
      "0\n",
      "3\n",
      "0\n",
      "0\n",
      "4\n",
      "0\n",
      "0\n",
      "5\n",
      "0\n",
      "0\n",
      "6\n",
      "0\n",
      "0\n",
      "7\n",
      "0\n",
      "0\n",
      "8\n",
      "0\n",
      "0\n",
      "9\n",
      "0\n",
      "0\n",
      "10\n",
      "0\n",
      "0\n",
      "11\n",
      "0\n",
      "0\n",
      "12\n",
      "0\n",
      "0\n",
      "13\n",
      "0\n",
      "0\n",
      "14\n",
      "0\n",
      "0\n",
      "15\n"
     ]
    }
   ],
   "source": [
    "dataL = []\n",
    "nwdirs = []\n",
    "for i,cfile in enumerate(dfiles):\n",
    "    wdir = ''\n",
    "    cf2 = cfile.split(\".\")[0].split(\"/\")\n",
    "    for fs in cf2[:-1]:\n",
    "        wdir = wdir+fs+'/'\n",
    "    wdir = wdir+cf2[-1]+'output/sptrack/'\n",
    "    nwdirs.append(wdir)\n",
    "    \n",
    "    with open(wdir+'data_msd.pickle', 'rb') as handle:\n",
    "        datat = pickle.load(handle)\n",
    "    dataL = [datat]\n",
    "\n",
    "\n",
    "    xdst,xdet,xdent = extractmsd(dataL,verbose=True)\n",
    "\n",
    "\n",
    "    Dest, Dept = extractDe(dataL,xdet,xdst)\n",
    "    print(i)\n",
    "    xdst[:,-1] = i\n",
    "    xdet[:,-1] = i\n",
    "    xdent[:,-1] = i\n",
    "    Dest[:,-1] = i\n",
    "    Dept[:,-1] = i\n",
    "    if i == 0:\n",
    "        xds = xdst\n",
    "        xde = xdet\n",
    "        xden = xdent\n",
    "        Des = Dest\n",
    "        Dep = Dept\n",
    "    else:\n",
    "        xds = row_stack((xds,xdst))\n",
    "        xde = row_stack((xde,xdet))\n",
    "        xden = row_stack((xden,xdent))\n",
    "        Des = row_stack((Des,Dest))\n",
    "        Dep = row_stack((Dep,Dept))\n",
    "        \n",
    "    #dataL.append(datat)"
   ]
  },
  {
   "cell_type": "code",
   "execution_count": 13,
   "metadata": {},
   "outputs": [],
   "source": [
    "with open('/mnt/data/Anastasia/DesDep19on.pkl','wb') as f:\n",
    "    pickle.dump([Des,Dep],f)"
   ]
  },
  {
   "cell_type": "code",
   "execution_count": 22,
   "metadata": {},
   "outputs": [],
   "source": [
    "with open('/mnt/data/Anastasia/full_stats.pkl','rb') as f:\n",
    "    #pickle.dump([idx0,dgps,ampst,xds,xde,xde,nDes,Dep],f)\n",
    "    _,nwdirs,dgps,ampst,idx0,xds,xde,xden,Des,Dep = pickle.load(f)"
   ]
  },
  {
   "cell_type": "code",
   "execution_count": 23,
   "metadata": {},
   "outputs": [],
   "source": [
    "# Lo estas haciendo bien? Comprueba!!\n",
    "\n",
    "#with open('/mnt/data/Anastasia/full_stats.pkl','wb') as f:\n",
    "#    #pickle.dump([idx0,dgps,ampst,xds,xde,xde,nDes,Dep],f)\n",
    "#    pickle.dump([imsk,nwdirs,dgps,ampst,idx0,xds,xde,xden,Des,Dep],f)"
   ]
  },
  {
   "cell_type": "code",
   "execution_count": 16,
   "metadata": {},
   "outputs": [
    {
     "data": {
      "text/plain": [
       "5011.0"
      ]
     },
     "execution_count": 16,
     "metadata": {},
     "output_type": "execute_result"
    }
   ],
   "source": [
    "imsk.sum()"
   ]
  },
  {
   "cell_type": "code",
   "execution_count": 20,
   "metadata": {},
   "outputs": [
    {
     "data": {
      "text/plain": [
       "array([0., 0., 0., 1., 0., 0., 0., 0., 0., 0., 0., 0., 0., 0., 0., 0., 0.,\n",
       "       0., 0., 0., 0., 0., 0., 0., 0., 0., 0., 0., 0., 0., 0., 0., 0., 0.,\n",
       "       0., 0., 0., 0., 0., 0., 1., 1., 0., 0., 0., 0., 0., 0., 0., 0., 0.,\n",
       "       0., 0., 0., 0., 0., 0., 0., 0., 0., 0., 1., 0., 0., 1., 0., 1., 0.,\n",
       "       1., 0., 1., 0., 0., 0., 0., 1., 0., 0., 0., 0., 0., 0., 0., 0., 0.,\n",
       "       0., 0., 0., 1., 0., 0., 0., 0., 0., 0., 0., 0., 0., 0., 0., 0., 0.,\n",
       "       0., 0., 0., 0., 0., 0., 0., 0., 0., 0., 0., 0., 0., 1., 0., 0., 0.,\n",
       "       0., 0., 0., 0., 0., 0., 0., 0., 0., 0., 0., 0., 0., 0., 0., 0., 0.,\n",
       "       0., 1., 0., 0., 0., 1., 0., 1., 0., 0., 0., 0., 0., 1., 1., 0., 1.,\n",
       "       0., 0., 0., 0., 0., 0., 0., 0., 0., 0., 0., 0., 0., 0., 0., 0., 0.,\n",
       "       0., 0., 0., 0., 0., 0., 0., 0., 1., 0., 0., 0., 0., 0., 0., 0., 0.,\n",
       "       0., 0., 0., 0., 1., 0., 0., 0., 0., 0., 0., 0., 0., 0., 0., 0., 1.,\n",
       "       1., 0., 0., 0., 0., 0., 0., 0., 0., 0., 0., 0., 0., 1., 0., 0., 0.,\n",
       "       1., 0., 0., 0., 0., 0., 0., 0., 0., 1., 0., 0., 0., 0., 0., 1., 0.,\n",
       "       0., 1., 0., 0., 0., 0., 0., 0., 0., 0., 0., 0., 0., 0., 0., 1., 0.,\n",
       "       0., 0., 0., 0., 1., 0., 0., 0., 0., 1., 0., 0., 0., 0., 0., 0., 0.,\n",
       "       0., 1., 0., 1., 0., 0., 1., 0., 0., 0., 0., 0., 0., 0., 0., 0., 0.,\n",
       "       0., 1., 0., 0., 0., 0., 1., 1., 0., 0., 0., 0., 0., 1., 1., 0., 1.,\n",
       "       0., 0., 0., 0., 0., 0., 0., 0., 0., 0., 0., 0., 0., 0., 0., 0., 0.,\n",
       "       0., 0., 0., 0., 0., 0., 0., 0., 0., 0., 0., 0., 0., 0., 0., 0., 0.,\n",
       "       0., 0., 0., 0., 1., 0., 1., 0., 0., 0., 0., 0., 0., 0., 0., 0., 0.,\n",
       "       0., 0., 0., 0., 0., 0., 0., 0., 0., 0., 0., 0., 0., 1., 0., 0., 0.,\n",
       "       0., 0., 0., 0., 1., 0., 0., 1., 0., 0., 0., 0., 0., 0., 0., 0., 0.,\n",
       "       0., 0., 0., 0., 0., 0., 0., 0., 0., 0., 0., 0., 0., 0., 0., 1., 0.,\n",
       "       0., 1., 0., 0., 0., 0., 0., 1., 0., 0., 0., 0., 0., 0., 0., 1., 1.,\n",
       "       0., 0., 0., 0., 0., 0., 0., 0., 0., 0., 0., 1., 0., 0., 0., 0., 0.,\n",
       "       0., 0., 0., 0., 0., 0., 0., 0., 0., 0., 1., 1., 0., 0., 1., 0., 0.,\n",
       "       0., 1., 0., 0., 0., 0., 0., 0., 1., 1., 0., 0., 0., 0., 0., 0., 0.,\n",
       "       0., 0., 0., 0., 0., 0., 0., 1., 0., 0., 0., 0., 0., 0., 0., 0., 0.,\n",
       "       0., 0., 0., 0., 1., 0., 0., 0., 1., 0., 0., 0., 0., 0., 0., 1., 0.,\n",
       "       0., 0., 0., 0., 0., 0., 0., 0., 0., 0., 0., 0., 0., 0., 0., 0., 1.,\n",
       "       0., 0., 0., 0., 0., 0., 0., 0., 0., 0., 1., 0., 0., 0., 0., 0., 0.,\n",
       "       0., 0., 0., 0., 0., 0., 0., 0., 0., 0., 0., 0., 0., 0., 0., 0., 0.,\n",
       "       0., 0., 0., 0., 0., 0., 0., 0., 1., 0., 0., 0., 0., 0., 0., 0., 0.,\n",
       "       0., 0., 0., 1., 0., 0., 1., 0., 0., 0., 0., 0., 0., 0., 0., 0., 0.,\n",
       "       0., 0., 0., 0., 0., 0., 0., 0., 0., 0., 1., 0., 1., 0., 0., 0., 0.,\n",
       "       0., 0., 0., 0., 0., 0., 0., 0., 0., 1., 0., 0., 0., 0., 0., 0., 0.,\n",
       "       0., 0., 0., 0., 0., 0., 0., 0., 0., 0., 0., 0., 0., 0., 0., 0., 0.,\n",
       "       0., 0., 0., 1., 0., 0., 1., 0., 0., 0., 0., 0., 0., 0., 0., 0., 0.,\n",
       "       0., 0., 0., 0., 1., 0., 1., 1., 0.])"
      ]
     },
     "execution_count": 20,
     "metadata": {},
     "output_type": "execute_result"
    }
   ],
   "source": [
    "imsk[:672]"
   ]
  },
  {
   "cell_type": "code",
   "execution_count": null,
   "metadata": {},
   "outputs": [],
   "source": []
  }
 ],
 "metadata": {
  "kernelspec": {
   "display_name": "deepl",
   "language": "python",
   "name": "deepl"
  },
  "language_info": {
   "codemirror_mode": {
    "name": "ipython",
    "version": 3
   },
   "file_extension": ".py",
   "mimetype": "text/x-python",
   "name": "python",
   "nbconvert_exporter": "python",
   "pygments_lexer": "ipython3",
   "version": "3.6.5"
  }
 },
 "nbformat": 4,
 "nbformat_minor": 2
}

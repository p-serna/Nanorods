{
  "nbformat": 4,
  "nbformat_minor": 0,
  "metadata": {
    "colab": {
      "name": "Main_Nanords.ipynb",
      "version": "0.3.2",
      "provenance": [],
      "collapsed_sections": []
    },
    "kernelspec": {
      "name": "python3",
      "display_name": "Python 3"
    }
  },
  "cells": [
    {
      "metadata": {
        "id": "o1h8dNkv1KtN",
        "colab_type": "text"
      },
      "cell_type": "markdown",
      "source": [
        "# Main\n",
        "\n"
      ]
    },
    {
      "metadata": {
        "id": "q1mdgIoM1ObZ",
        "colab_type": "text"
      },
      "cell_type": "markdown",
      "source": [
        "Now some text explaining stuff"
      ]
    },
    {
      "metadata": {
        "id": "HIVwsscMMRxl",
        "colab_type": "text"
      },
      "cell_type": "markdown",
      "source": [
        "## General requirements"
      ]
    },
    {
      "metadata": {
        "id": "_87BroCWMQAH",
        "colab_type": "code",
        "colab": {}
      },
      "cell_type": "code",
      "source": [
        ""
      ],
      "execution_count": 0,
      "outputs": []
    },
    {
      "metadata": {
        "id": "s_BAfJNT0461",
        "colab_type": "code",
        "colab": {}
      },
      "cell_type": "code",
      "source": [
        "from matplotlib.pylab import *\n",
        "from numpy import *\n",
        "%matplotlib inline"
      ],
      "execution_count": 0,
      "outputs": []
    },
    {
      "metadata": {
        "id": "Dykvvnu_MjuW",
        "colab_type": "text"
      },
      "cell_type": "markdown",
      "source": [
        "##     Mask generation and three fields alignment.\n",
        "\n",
        "### cMOS camera fields alignment\n",
        "### EMCCD mask generation\n",
        "### Transposition of mask two CMOS images\n"
      ]
    },
    {
      "metadata": {
        "id": "mjCY9KpwNCP9",
        "colab_type": "code",
        "colab": {}
      },
      "cell_type": "code",
      "source": [
        ""
      ],
      "execution_count": 0,
      "outputs": []
    },
    {
      "metadata": {
        "id": "lEfZH59hM5B9",
        "colab_type": "text"
      },
      "cell_type": "markdown",
      "source": [
        "##   Local maxima detection and ROI detection\n",
        "### Local maxima detection\n",
        "### Blinking coefficient and selection\n",
        "### Neural-net?\n"
      ]
    },
    {
      "metadata": {
        "id": "x9VFP28_NC2E",
        "colab_type": "code",
        "colab": {}
      },
      "cell_type": "code",
      "source": [
        ""
      ],
      "execution_count": 0,
      "outputs": []
    },
    {
      "metadata": {
        "id": "tE-vG8P4M8NT",
        "colab_type": "text"
      },
      "cell_type": "markdown",
      "source": [
        "##   Processing ROIs:\n",
        "### Linearization of ROI\n",
        "### Blinking substraction\n",
        "### Stitching cycles\n",
        "### Mobility\n",
        "\n"
      ]
    },
    {
      "metadata": {
        "id": "PO3-bm6PNDZh",
        "colab_type": "code",
        "colab": {}
      },
      "cell_type": "code",
      "source": [
        ""
      ],
      "execution_count": 0,
      "outputs": []
    },
    {
      "metadata": {
        "id": "ctR2Zbs0M-rc",
        "colab_type": "text"
      },
      "cell_type": "markdown",
      "source": [
        "##    Extracting Signal\n",
        "### FT score calculation\n",
        "### Interval extraction\n",
        "\n"
      ]
    },
    {
      "metadata": {
        "id": "CG9NERPwND-7",
        "colab_type": "code",
        "colab": {}
      },
      "cell_type": "code",
      "source": [
        ""
      ],
      "execution_count": 0,
      "outputs": []
    },
    {
      "metadata": {
        "id": "3iuqnI83NAUk",
        "colab_type": "text"
      },
      "cell_type": "markdown",
      "source": [
        "##   Bootstrap?\n",
        "\n"
      ]
    },
    {
      "metadata": {
        "id": "39cd1A8iNEe8",
        "colab_type": "code",
        "colab": {}
      },
      "cell_type": "code",
      "source": [
        ""
      ],
      "execution_count": 0,
      "outputs": []
    }
  ]
}
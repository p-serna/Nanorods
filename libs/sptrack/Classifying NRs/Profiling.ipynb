{
 "cells": [
  {
   "cell_type": "code",
   "execution_count": 1,
   "metadata": {},
   "outputs": [],
   "source": [
    "import pickle\n",
    "from numpy import *\n",
    "from matplotlib.pylab import *\n"
   ]
  },
  {
   "cell_type": "code",
   "execution_count": 2,
   "metadata": {},
   "outputs": [],
   "source": [
    "with open(\"testfile.pkl\",\"rb\") as f:\n",
    "    dataLt  = pickle.load(f)"
   ]
  },
  {
   "cell_type": "code",
   "execution_count": 3,
   "metadata": {},
   "outputs": [],
   "source": [
    "import msd"
   ]
  },
  {
   "cell_type": "code",
   "execution_count": 4,
   "metadata": {},
   "outputs": [],
   "source": [
    "import numpy as np\n",
    "%load_ext line_profiler"
   ]
  },
  {
   "cell_type": "code",
   "execution_count": 5,
   "metadata": {},
   "outputs": [
    {
     "name": "stderr",
     "output_type": "stream",
     "text": [
      "/export/home1/users/bssn/serna/GitIBENS/Nanorods/sptrack/Classifying NRs/msd.py:35: RuntimeWarning: divide by zero encountered in double_scalars\n",
      "  seb = sqrt((ssx*ssy-ssxy**2)/((n-2)))/ssx\n",
      "/export/home1/users/bssn/serna/GitIBENS/Nanorods/sptrack/Classifying NRs/msd.py:34: RuntimeWarning: invalid value encountered in double_scalars\n",
      "  b = ssxy/ssx\n",
      "/export/home1/users/bssn/serna/GitIBENS/Nanorods/sptrack/Classifying NRs/msd.py:35: RuntimeWarning: invalid value encountered in double_scalars\n",
      "  seb = sqrt((ssx*ssy-ssxy**2)/((n-2)))/ssx\n",
      "/export/home1/users/bssn/serna/GitIBENS/Nanorods/sptrack/Classifying NRs/msd.py:35: RuntimeWarning: invalid value encountered in sqrt\n",
      "  seb = sqrt((ssx*ssy-ssxy**2)/((n-2)))/ssx\n"
     ]
    },
    {
     "name": "stdout",
     "output_type": "stream",
     "text": [
      "0\n",
      "1\n",
      "0\n",
      "1\n",
      "0\n",
      "1\n",
      "0\n",
      "1\n",
      "0\n",
      "1\n",
      "0\n",
      "1\n",
      "0\n",
      "1\n",
      "0\n",
      "1\n",
      "412 ms ± 82.8 ms per loop (mean ± std. dev. of 7 runs, 1 loop each)\n"
     ]
    }
   ],
   "source": [
    "%timeit  msd.extractmsd(dataLt)"
   ]
  },
  {
   "cell_type": "code",
   "execution_count": 9,
   "metadata": {},
   "outputs": [
    {
     "name": "stderr",
     "output_type": "stream",
     "text": [
      "/export/home1/users/bssn/serna/GitIBENS/Nanorods/sptrack/Classifying NRs/msd.py:90: RuntimeWarning: divide by zero encountered in double_scalars\n",
      "  seb = sqrt((ssx*ssy-ssxy**2)/((n-2)))/ssx\n",
      "/export/home1/users/bssn/serna/GitIBENS/Nanorods/sptrack/Classifying NRs/msd.py:89: RuntimeWarning: invalid value encountered in double_scalars\n",
      "  b = ssxy/ssx\n",
      "/export/home1/users/bssn/serna/GitIBENS/Nanorods/sptrack/Classifying NRs/msd.py:90: RuntimeWarning: invalid value encountered in double_scalars\n",
      "  seb = sqrt((ssx*ssy-ssxy**2)/((n-2)))/ssx\n",
      "/export/home1/users/bssn/serna/GitIBENS/Nanorods/sptrack/Classifying NRs/msd.py:90: RuntimeWarning: invalid value encountered in sqrt\n",
      "  seb = sqrt((ssx*ssy-ssxy**2)/((n-2)))/ssx\n"
     ]
    },
    {
     "name": "stdout",
     "output_type": "stream",
     "text": [
      "\n",
      "*** Profile printout saved to text file 'lprof0'. \n"
     ]
    }
   ],
   "source": [
    "%lprun -T lprof0 -f msd.extractmsd msd.extractmsd(dataLt)"
   ]
  },
  {
   "cell_type": "code",
   "execution_count": 10,
   "metadata": {},
   "outputs": [
    {
     "name": "stdout",
     "output_type": "stream",
     "text": [
      "Timer unit: 1e-06 s\n",
      "\n",
      "Total time: 0.415681 s\n",
      "File: /export/home1/users/bssn/serna/GitIBENS/Nanorods/sptrack/Classifying NRs/msd.py\n",
      "Function: testfunction2 at line 96\n",
      "\n",
      "Line #      Hits         Time  Per Hit   % Time  Line Contents\n",
      "==============================================================\n",
      "    96                                           def testfunction2(dataL):\n",
      "    97         1          4.0      4.0      0.0      iNR = 0\n",
      "    98                                           \n",
      "    99         3          9.0      3.0      0.0      for idat,data in enumerate(dataL):\n",
      "   100         2          7.0      3.5      0.0          tmax = data[0][1].shape[0]\n",
      "   101                                           \n",
      "   102         2         47.0     23.5      0.0          t = arange(tmax)\n",
      "   103         2         18.0      9.0      0.0          counter = zeros(8)\n",
      "   104         2          3.0      1.5      0.0          k = 0\n",
      "   105        10         24.0      2.4      0.0          for i in range(len(data)):\n",
      "   106         8         16.0      2.0      0.0              d = data[i]\n",
      "   107         8         16.0      2.0      0.0              ni,yt,ey2,cnt = d\n",
      "   108                                           \n",
      "   109         8        897.0    112.1      0.2              xtt = t*10.0e-3\n",
      "   110         8        103.0     12.9      0.0              ytt = yt*.325**2\n",
      "   111                                           \n",
      "   112         8        107.0     13.4      0.0              dto =  log(tmax)/200\n",
      "   113         8        852.0    106.5      0.2              tml = log(t[1:])\n",
      "   114         8         52.0      6.5      0.0              ntl = int(tml[-1]/dto)+1\n",
      "   115         8         27.0      3.4      0.0              t0l = 0\n",
      "   116         8        127.0     15.9      0.0              dd = zeros((ntl,2))-1\n",
      "   117         8         90.0     11.2      0.0              dd[0,:2] = (t[1],ytt[1])\n",
      "   118      1600       3457.0      2.2      0.8              for il in arange(1,ntl):\n",
      "   119      1592       3573.0      2.2      0.9                  til = t0l+dto\n",
      "   120      1592      28210.0     17.7      6.8                  sel = (tml>=t0l)*(tml<til)\n",
      "   121      1592      28648.0     18.0      6.9                  if sel.sum()>0:\n",
      "   122      1144       7818.0      6.8      1.9                      xe = xtt[1:][sel]\n",
      "   123      1144       5554.0      4.9      1.3                      ye = ytt[1:][sel]\n",
      "   124      1144      71193.0     62.2     17.1                      dd[il,:2] = [xe.mean(),ye.mean()]\n",
      "   125      1592       3673.0      2.3      0.9                  t0l = til\n",
      "   126                                           \n",
      "   127         8        220.0     27.5      0.1              dde = dd[dd[:,0]>0,:]\n",
      "   128         8         27.0      3.4      0.0              dde = dde[1:,:]\n",
      "   129                                           \n",
      "   130         8         18.0      2.2      0.0              if idat == 0 and i ==0:\n",
      "   131         1         67.0     67.0      0.0                  xde = column_stack((dde,dde[:,:1]*0+i,dde[:,:1]*0+idat))\n",
      "   132         1         65.0     65.0      0.0                  xden = column_stack((dde[:,:1],(dde[:,1:2]-dde[0,1])/(dde[-1,1]-dde[0,1]),dde[:,:1]*0+i,dde[:,:1]*0+idat))\n",
      "   133                                                       else:\n",
      "   134         7        530.0     75.7      0.1                  xde = row_stack((xde,column_stack((dde,dde[:,:1]*0+i,dde[:,:1]*0+idat))))\n",
      "   135         7        600.0     85.7      0.1                  xden = row_stack((xden,column_stack((dde[:,:1],(dde[:,1:2]-dde[0,1])/(dde[-1,1]-dde[0,1]),dde[:,:1]*0+i,dde[:,:1]*0+idat))))\n",
      "   136                                           \n",
      "   137         8         31.0      3.9      0.0              ntle = dde.shape[0]\n",
      "   138         8         14.0      1.8      0.0              nwin = 50\n",
      "   139         8         43.0      5.4      0.0              ds = zeros((ntle+nwin-3,3))\n",
      "   140      1528       3357.0      2.2      0.8              for il in range(ntle+nwin-3):\n",
      "   141      1520       9007.0      5.9      2.2                  sel = arange(il-nwin+3,il+3)\n",
      "   142      1520      18935.0     12.5      4.6                  sel = sel[(sel>=0)*(sel<ntle)]\n",
      "   143      1520      12173.0      8.0      2.9                  xe = dde[sel,0]\n",
      "   144      1520       8766.0      5.8      2.1                  ye = dde[sel,1]    \n",
      "   145      1520     147725.0     97.2     35.5                  lm = linregress2(xe,ye)\n",
      "   146      1520      46896.0     30.9     11.3                  ds[il,0] = xe.mean()    \n",
      "   147      1520      11123.0      7.3      2.7                  ds[il,1:3] = (lm[0],lm[1])    \n",
      "   148                                           \n",
      "   149                                           \n",
      "   150         8         17.0      2.1      0.0              if idat == 0 and i ==0:\n",
      "   151         1         62.0     62.0      0.0                  xds = column_stack((ds,ds[:,:1]*0+i,ds[:,:1]*0+idat))\n",
      "   152                                                       else:\n",
      "   153         7       1434.0    204.9      0.3                  xds = row_stack((xds,column_stack((ds,ds[:,:1]*0+i,ds[:,:1]*0+idat))))\n",
      "   154                                                       \n",
      "   155         8         21.0      2.6      0.0              iNR +=1\n",
      "   156                                                   #print(idat)\n",
      "   157                                           \n",
      "   158         1         10.0     10.0      0.0      xds = array(xds)\n",
      "   159         1          7.0      7.0      0.0      xde = array(xde)\n",
      "   160         1          6.0      6.0      0.0      xden = array(xden)\n",
      "   161         1          2.0      2.0      0.0      return((xds,xde,xden))\n"
     ]
    }
   ],
   "source": [
    "print(open('lprof0', 'r').read())"
   ]
  },
  {
   "cell_type": "code",
   "execution_count": 11,
   "metadata": {},
   "outputs": [
    {
     "name": "stderr",
     "output_type": "stream",
     "text": [
      "/export/home1/users/bssn/serna/GitIBENS/Nanorods/sptrack/Classifying NRs/msd.py:90: RuntimeWarning: divide by zero encountered in double_scalars\n",
      "  seb = sqrt((ssx*ssy-ssxy**2)/((n-2)))/ssx\n",
      "/export/home1/users/bssn/serna/GitIBENS/Nanorods/sptrack/Classifying NRs/msd.py:89: RuntimeWarning: invalid value encountered in double_scalars\n",
      "  b = ssxy/ssx\n",
      "/export/home1/users/bssn/serna/GitIBENS/Nanorods/sptrack/Classifying NRs/msd.py:90: RuntimeWarning: invalid value encountered in double_scalars\n",
      "  seb = sqrt((ssx*ssy-ssxy**2)/((n-2)))/ssx\n",
      "/export/home1/users/bssn/serna/GitIBENS/Nanorods/sptrack/Classifying NRs/msd.py:90: RuntimeWarning: invalid value encountered in sqrt\n",
      "  seb = sqrt((ssx*ssy-ssxy**2)/((n-2)))/ssx\n"
     ]
    },
    {
     "name": "stdout",
     "output_type": "stream",
     "text": [
      " \n",
      "*** Profile printout saved to text file 'prun0'. \n"
     ]
    }
   ],
   "source": [
    "%%prun -s cumulative -q -l 10 -T prun0\n",
    "p = msd.extractmsd(dataLt)"
   ]
  },
  {
   "cell_type": "code",
   "execution_count": 12,
   "metadata": {},
   "outputs": [
    {
     "name": "stdout",
     "output_type": "stream",
     "text": [
      "         97474 function calls in 0.327 seconds\n",
      "\n",
      "   Ordered by: cumulative time\n",
      "   List reduced from 47 to 10 due to restriction <10>\n",
      "\n",
      "   ncalls  tottime  percall  cumtime  percall filename:lineno(function)\n",
      "        1    0.000    0.000    0.327    0.327 {built-in method builtins.exec}\n",
      "        1    0.000    0.000    0.327    0.327 <string>:2(<module>)\n",
      "        1    0.094    0.094    0.327    0.327 msd.py:96(testfunction2)\n",
      "     6848    0.008    0.000    0.142    0.000 {method 'mean' of 'numpy.ndarray' objects}\n",
      "     6848    0.043    0.000    0.135    0.000 _methods.py:53(_mean)\n",
      "     1520    0.034    0.000    0.125    0.000 msd.py:79(linregress2)\n",
      "    13000    0.084    0.000    0.084    0.000 {method 'reduce' of 'numpy.ufunc' objects}\n",
      "     6152    0.006    0.000    0.050    0.000 {method 'sum' of 'numpy.ndarray' objects}\n",
      "     6152    0.003    0.000    0.044    0.000 _methods.py:31(_sum)\n",
      "     6848    0.027    0.000    0.029    0.000 _methods.py:43(_count_reduce_items)\n"
     ]
    }
   ],
   "source": [
    "print(open('prun0', 'r').read())"
   ]
  },
  {
   "cell_type": "code",
   "execution_count": 6,
   "metadata": {},
   "outputs": [
    {
     "name": "stderr",
     "output_type": "stream",
     "text": [
      "/export/home1/users/bssn/serna/GitIBENS/Nanorods/sptrack/Classifying NRs/msd.py:35: RuntimeWarning: divide by zero encountered in double_scalars\n",
      "  seb = sqrt((ssx*ssy-ssxy**2)/((n-2)))/ssx\n",
      "/export/home1/users/bssn/serna/GitIBENS/Nanorods/sptrack/Classifying NRs/msd.py:34: RuntimeWarning: invalid value encountered in double_scalars\n",
      "  b = ssxy/ssx\n",
      "/export/home1/users/bssn/serna/GitIBENS/Nanorods/sptrack/Classifying NRs/msd.py:35: RuntimeWarning: invalid value encountered in double_scalars\n",
      "  seb = sqrt((ssx*ssy-ssxy**2)/((n-2)))/ssx\n",
      "/export/home1/users/bssn/serna/GitIBENS/Nanorods/sptrack/Classifying NRs/msd.py:35: RuntimeWarning: invalid value encountered in sqrt\n",
      "  seb = sqrt((ssx*ssy-ssxy**2)/((n-2)))/ssx\n"
     ]
    },
    {
     "name": "stdout",
     "output_type": "stream",
     "text": [
      "0\n",
      "1\n"
     ]
    }
   ],
   "source": [
    "xds,xde,xden = msd.extractmsd(dataLt,verbose=True)"
   ]
  },
  {
   "cell_type": "code",
   "execution_count": 8,
   "metadata": {},
   "outputs": [
    {
     "name": "stderr",
     "output_type": "stream",
     "text": [
      "/export/home1/users/bssn/serna/GitIBENS/Nanorods/sptrack/Classifying NRs/msd.py:139: RuntimeWarning: invalid value encountered in true_divide\n",
      "  msds = msds[1:,:]/msds[:-1,:]\n"
     ]
    },
    {
     "name": "stdout",
     "output_type": "stream",
     "text": [
      "6.6 ms ± 1.55 ms per loop (mean ± std. dev. of 7 runs, 100 loops each)\n"
     ]
    }
   ],
   "source": [
    "%timeit  msd.extractDe(dataLt,xde,xds,verbose=False)"
   ]
  },
  {
   "cell_type": "code",
   "execution_count": 9,
   "metadata": {},
   "outputs": [
    {
     "name": "stderr",
     "output_type": "stream",
     "text": [
      "/export/home1/users/bssn/serna/GitIBENS/Nanorods/sptrack/Classifying NRs/msd.py:139: RuntimeWarning: invalid value encountered in true_divide\n",
      "  msds = msds[1:,:]/msds[:-1,:]\n"
     ]
    }
   ],
   "source": [
    "Des,Dep = msd.extractDe(dataLt,xde,xds,verbose=False)"
   ]
  },
  {
   "cell_type": "code",
   "execution_count": 12,
   "metadata": {},
   "outputs": [
    {
     "data": {
      "text/plain": [
       "array([[1.35902429e-05, 3.64998328e-06, 1.79022865e-05, 0.00000000e+00],\n",
       "       [3.01962812e-05, 5.61262270e-06, 2.56300015e-05, 0.00000000e+00],\n",
       "       [2.96772675e-05, 1.08635771e-05, 4.02124896e-05, 0.00000000e+00],\n",
       "       [4.74225446e-05, 1.03867020e-05, 3.54253289e-05, 0.00000000e+00],\n",
       "       [2.85340414e-05, 5.85308620e-06, 3.35497898e-05, 1.00000000e+00],\n",
       "       [1.30497951e-04, 1.83625535e-05, 1.12502792e-04, 1.00000000e+00],\n",
       "       [2.02973133e-04, 2.12624125e-05, 7.67850408e-05, 1.00000000e+00],\n",
       "       [4.06494803e-05, 8.21841414e-06, 4.24016930e-05, 1.00000000e+00]])"
      ]
     },
     "execution_count": 12,
     "metadata": {},
     "output_type": "execute_result"
    }
   ],
   "source": [
    "Des"
   ]
  },
  {
   "cell_type": "code",
   "execution_count": null,
   "metadata": {},
   "outputs": [],
   "source": []
  }
 ],
 "metadata": {
  "kernelspec": {
   "display_name": "deepl",
   "language": "python",
   "name": "deepl"
  },
  "language_info": {
   "codemirror_mode": {
    "name": "ipython",
    "version": 3
   },
   "file_extension": ".py",
   "mimetype": "text/x-python",
   "name": "python",
   "nbconvert_exporter": "python",
   "pygments_lexer": "ipython3",
   "version": "3.6.5"
  }
 },
 "nbformat": 4,
 "nbformat_minor": 2
}
